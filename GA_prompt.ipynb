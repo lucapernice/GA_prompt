{
  "nbformat": 4,
  "nbformat_minor": 0,
  "metadata": {
    "colab": {
      "provenance": [],
      "gpuType": "T4",
      "authorship_tag": "ABX9TyMimlAuhIpF0kPJAGWHMqHb",
      "include_colab_link": true
    },
    "kernelspec": {
      "name": "python3",
      "display_name": "Python 3"
    },
    "language_info": {
      "name": "python"
    },
    "accelerator": "GPU"
  },
  "cells": [
    {
      "cell_type": "markdown",
      "metadata": {
        "id": "view-in-github",
        "colab_type": "text"
      },
      "source": [
        "<a href=\"https://colab.research.google.com/github/lucapernice/GA_prompt/blob/main/GA_prompt.ipynb\" target=\"_parent\"><img src=\"https://colab.research.google.com/assets/colab-badge.svg\" alt=\"Open In Colab\"/></a>"
      ]
    },
    {
      "cell_type": "markdown",
      "source": [
        "# Introduction: GA for LLMs\n",
        "\n",
        "Welcome to this collaborative notebook exploring the integration of Genetic Algorithms and Language Models. This notebook aims to optimize a language model prompt using Genetic Algorithms, leveraging the language model itself for performing crossover and mutation operations. Join the exploration of the fusion between evolutionary computation and natural language processing for innovative prompt optimization."
      ],
      "metadata": {
        "id": "m8KuhEnB1ZeG"
      }
    },
    {
      "cell_type": "markdown",
      "source": [
        "First, let's install [the Petals package](https://github.com/bigscience-workshop/petals):\n"
      ],
      "metadata": {
        "id": "WEQVeTppbEjR"
      }
    },
    {
      "cell_type": "code",
      "execution_count": null,
      "metadata": {
        "id": "hBNkOgV4a3aO"
      },
      "outputs": [],
      "source": [
        "%pip install git+https://github.com/bigscience-workshop/petals"
      ]
    },
    {
      "cell_type": "markdown",
      "source": [
        "**Petals** allow us to use generate text with the [Stable Beluga 2](https://huggingface.co/stabilityai/StableBeluga2) model, a fine-tuned Llama 2 (70B)."
      ],
      "metadata": {
        "id": "IH5dqyMOWv1-"
      }
    },
    {
      "cell_type": "code",
      "source": [
        "import torch\n",
        "from transformers import AutoTokenizer\n",
        "from petals import AutoDistributedModelForCausalLM\n",
        "import os\n",
        "\n",
        "model_name = \"petals-team/StableBeluga2\"\n",
        "\n",
        "\n",
        "tokenizer = AutoTokenizer.from_pretrained(model_name, use_fast=False, add_bos_token=False)\n",
        "model = AutoDistributedModelForCausalLM.from_pretrained(model_name)\n",
        "model = model.cuda()"
      ],
      "metadata": {
        "id": "ABZK6ZrRbdOD"
      },
      "execution_count": null,
      "outputs": []
    },
    {
      "cell_type": "markdown",
      "source": [
        "Before proceeding, just a little test..."
      ],
      "metadata": {
        "id": "3V47shAlcD0E"
      }
    },
    {
      "cell_type": "code",
      "source": [
        "inputs = tokenizer('A cat in French is \"', return_tensors=\"pt\")[\"input_ids\"].cuda()\n",
        "outputs = model.generate(inputs, max_new_tokens=3)\n",
        "print(tokenizer.decode(outputs[0]))"
      ],
      "metadata": {
        "colab": {
          "base_uri": "https://localhost:8080/"
        },
        "id": "1DAATT-Vb_EP",
        "outputId": "ad3d25ff-13ea-49d2-dd87-69c9ebb1929f"
      },
      "execution_count": null,
      "outputs": [
        {
          "output_type": "stream",
          "name": "stderr",
          "text": [
            "Dec 12 09:32:27.436 [\u001b[1m\u001b[34mINFO\u001b[0m] Route found: 0:46 via …F7Dd1P => 46:80 via …H12XRA\n"
          ]
        },
        {
          "output_type": "stream",
          "name": "stdout",
          "text": [
            "A cat in French is \"un chat\"\n"
          ]
        }
      ]
    },
    {
      "cell_type": "markdown",
      "source": [
        "# Part 1: Crossover of sentences\n",
        "\n",
        "In this section we will test how [Stable Beluga 2](https://huggingface.co/stabilityai/StableBeluga2) perform the crossover between these two prompts:\n",
        "\n",
        "- *Joe wants to eat a pizza*\n",
        "- *Mark loves to play football*\n",
        "\n",
        "Since the crossover will be generated as a completition of an input, we need to find a proper input. In other words, we need a promt for performing the crossover.\n",
        "Let's try with this simple prompt:\n"
      ],
      "metadata": {
        "id": "fT95OMZngDI3"
      }
    },
    {
      "cell_type": "code",
      "source": [
        "prompt_1 = 'Prompt 1: Joe wants to eat a pizza. Prompt 2: Mark loves to play football. Crossover: '"
      ],
      "metadata": {
        "id": "dLqobShsj8fD"
      },
      "execution_count": null,
      "outputs": []
    },
    {
      "cell_type": "code",
      "source": [
        "inputs = tokenizer(prompt_1, return_tensors=\"pt\")[\"input_ids\"].cuda()\n",
        "outputs = model.generate(inputs, max_new_tokens=40)\n",
        "print(tokenizer.decode(outputs[0]))"
      ],
      "metadata": {
        "colab": {
          "base_uri": "https://localhost:8080/"
        },
        "id": "YWZESosBeJbs",
        "outputId": "0028ac2f-f0e8-45ff-cbc7-5153c4be2123"
      },
      "execution_count": null,
      "outputs": [
        {
          "output_type": "stream",
          "name": "stderr",
          "text": [
            "Dec 03 10:20:27.837 [\u001b[1m\u001b[34mINFO\u001b[0m] Route found: 0:80 via …V7nCc2\n"
          ]
        },
        {
          "output_type": "stream",
          "name": "stdout",
          "text": [
            "Prompt 1: Joe wants to eat a pizza. Prompt 2: Mark loves to play football. Crossover: 1. Joe wants to eat a pizza while watching Mark play football. 2. Mark loves to play football with Joe while they eat pizza together.\n",
            "Crossover Prompt\n"
          ]
        }
      ]
    },
    {
      "cell_type": "markdown",
      "source": [
        "Notice how the generated sentences are longer than the two starting prompts. Now suppose we want an offspring that has more or less the same length as the parents. Let's try this other way:"
      ],
      "metadata": {
        "id": "JkJgva0DkEU4"
      }
    },
    {
      "cell_type": "code",
      "source": [
        "prompt_2 = 'Prompt 1: Lisa is having fun. Prompt 2: Jean is bored. Crossover: 1. Lisa is bored. 2.Jean is having fun. Prompt 1: Joe wants to eat a pizza. Prompt 2: Mark loves to play football. Crossover: '\n",
        "\n"
      ],
      "metadata": {
        "id": "8wHrrYt2pJcg"
      },
      "execution_count": null,
      "outputs": []
    },
    {
      "cell_type": "code",
      "source": [
        "inputs = tokenizer(prompt_2, return_tensors=\"pt\")[\"input_ids\"].cuda()\n",
        "outputs = model.generate(inputs, max_new_tokens=40)\n",
        "print(tokenizer.decode(outputs[0]))"
      ],
      "metadata": {
        "colab": {
          "base_uri": "https://localhost:8080/"
        },
        "id": "7Xz5kIPpomSJ",
        "outputId": "72b8c285-c7e2-4384-97d0-4cde9731fde2"
      },
      "execution_count": null,
      "outputs": [
        {
          "output_type": "stream",
          "name": "stderr",
          "text": [
            "Dec 12 09:33:19.557 [\u001b[1m\u001b[34mINFO\u001b[0m] Route found: 0:46 via …EdzGhn => 46:80 via …H12XRA\n"
          ]
        },
        {
          "output_type": "stream",
          "name": "stdout",
          "text": [
            "Prompt 1: Lisa is having fun. Prompt 2: Jean is bored. Crossover: 1. Lisa is bored. 2.Jean is having fun. Prompt 1: Joe wants to eat a pizza. Prompt 2: Mark loves to play football. Crossover: 1. Joe wants to play football. 2. Mark wants to eat a pizza.\n",
            "1. Lisa is bored.\n",
            "2. Jean is having fun.\n",
            "1. Joe wants\n"
          ]
        }
      ]
    },
    {
      "cell_type": "markdown",
      "source": [
        "In this second prompt we are giving an example on how to perform the crossover (One Shot Prompting). We could also give more example to let the model learn how to perform the crossover (Few Shot Prompting). Ignoring for now the last part of the output, we can recognize the offsprings:\n",
        "\n",
        "- *`Joe wants to play football`*\n",
        "- *`Mark wants to eat a pizza`*\n",
        "\n",
        "Thanks to the example we obtained much shorter offsprings, but telling the model how to perform crossover we've also introduced a strong bias."
      ],
      "metadata": {
        "id": "AUp0lSEHsR6z"
      }
    },
    {
      "cell_type": "code",
      "source": [
        "prompt_3 = 'Perform the crossover between these sentences: \"Joe wants to eat a pizza\", \"Mark loves to play football\". Offsprings : \" '"
      ],
      "metadata": {
        "id": "jVirWzwnyj1J"
      },
      "execution_count": null,
      "outputs": []
    },
    {
      "cell_type": "code",
      "source": [
        "inputs = tokenizer(prompt_3, return_tensors=\"pt\")[\"input_ids\"].cuda()\n",
        "outputs = model.generate(inputs, max_new_tokens=60)\n",
        "print(tokenizer.decode(outputs[0]))"
      ],
      "metadata": {
        "colab": {
          "base_uri": "https://localhost:8080/"
        },
        "id": "XbKA3FHJzD7x",
        "outputId": "ef401cfb-3b6f-4c37-e03e-f4647f0bdb72"
      },
      "execution_count": null,
      "outputs": [
        {
          "output_type": "stream",
          "name": "stderr",
          "text": [
            "Dec 02 18:34:01.004 [\u001b[1m\u001b[34mINFO\u001b[0m] Route found: 0:80 via …V7nCc2\n"
          ]
        },
        {
          "output_type": "stream",
          "name": "stdout",
          "text": [
            "Perform the crossover between these sentences: \"Joe wants to eat a pizza\", \"Mark loves to play football\". Offsprings : \" 1. Joe loves to play football\", \"2. Mark wants to eat a pizza\".\n",
            "\n",
            "Answer:\n",
            "\n",
            "1. Joe loves to play football\n",
            "2. Mark wants to\n"
          ]
        }
      ]
    },
    {
      "cell_type": "markdown",
      "source": [
        "Finally, we obtained something near to what we wanted. Without any example, the model generated two sentences very similar to the previous two. In fact we can recognize:\n",
        "\n",
        "- *`Joe loves to play football`*\n",
        "- *`Mark wants to eat a pizza`*\n",
        "\n",
        "Still the model returns more tokens than needed. How we can manage this?\n",
        "Let's try another prompt:"
      ],
      "metadata": {
        "id": "o1oHL6s10NC-"
      }
    },
    {
      "cell_type": "code",
      "source": [
        "prompt_4 =  'Perform the crossover between these sentences: \"Joe wants to eat a pizza\", \"Mark loves to play football\". Now write the offsprings. '"
      ],
      "metadata": {
        "id": "AZ5yUfPx15L7"
      },
      "execution_count": null,
      "outputs": []
    },
    {
      "cell_type": "code",
      "source": [
        "inputs = tokenizer(prompt_4, return_tensors=\"pt\")[\"input_ids\"].cuda()\n",
        "outputs = model.generate(inputs, max_new_tokens=40)\n",
        "print(tokenizer.decode(outputs[0]))"
      ],
      "metadata": {
        "colab": {
          "base_uri": "https://localhost:8080/"
        },
        "id": "MWF5gpFo2Dfq",
        "outputId": "b56cb933-dc6d-409c-ad08-d724ad726a95"
      },
      "execution_count": null,
      "outputs": [
        {
          "output_type": "stream",
          "name": "stderr",
          "text": [
            "Dec 02 18:50:07.186 [\u001b[1m\u001b[34mINFO\u001b[0m] Route found: 0:80 via …V7nCc2\n"
          ]
        },
        {
          "output_type": "stream",
          "name": "stdout",
          "text": [
            " Perform the crossover between these sentences: \"Joe wants to eat a pizza\", \"Mark loves to play football\". Now write the offsprings. \n",
            "\n",
            "1. Joe loves to play football.\n",
            "2. Mark wants to eat a pizza.\n",
            "\n",
            "\n",
            "\n",
            "</s>\n"
          ]
        }
      ]
    },
    {
      "cell_type": "markdown",
      "source": [
        "Finally the output ends correctly showing the ending token. In previous examples we ended the input with  <*`bla bla bla. Crossover: _ `*> or  <*`bla bla bla. Offsprings: _ `*>, expecting the model to complete the sentence after the colon. Now we simply give an instruction with a closed sentence as input.\n",
        "\n",
        "Now we try to do the same with more complex sentences."
      ],
      "metadata": {
        "id": "DhQ2V73w31mA"
      }
    },
    {
      "cell_type": "code",
      "source": [
        "sentence_1 = \"Michael doesn't want to go out this weekend because it's raining.\"\n",
        "sentence_2 = \"Pizza is the most famous italian food.\"\n",
        "prompt_5 = 'Perform the crossover between these sentences: \"' + sentence_1 + '\", \"' + sentence_2 + '\" Now casually generate the offsprings.'\n"
      ],
      "metadata": {
        "id": "jqUP2irM7Sfa"
      },
      "execution_count": null,
      "outputs": []
    },
    {
      "cell_type": "code",
      "source": [
        "inputs = tokenizer(prompt_5, return_tensors=\"pt\")[\"input_ids\"].cuda()\n",
        "outputs = model.generate(inputs, max_new_tokens=60)\n",
        "print(tokenizer.decode(outputs[0]))"
      ],
      "metadata": {
        "colab": {
          "base_uri": "https://localhost:8080/"
        },
        "id": "VXPfLggX86ZZ",
        "outputId": "ac0cceb8-08a4-4fd4-8169-bc8952e74974"
      },
      "execution_count": null,
      "outputs": [
        {
          "output_type": "stream",
          "name": "stderr",
          "text": [
            "Dec 02 19:22:10.607 [\u001b[1m\u001b[34mINFO\u001b[0m] Route found: 0:80 via …V7nCc2\n"
          ]
        },
        {
          "output_type": "stream",
          "name": "stdout",
          "text": [
            " Perform the crossover between these sentences: \"Michael doesn't want to go out this weekend because it's raining.\", \"Pizza is the most famous italian food.\" Now casually generate the offsprings.\n",
            "\n",
            "Answer: \"Michael doesn't want to go out this weekend because it's raining pizza.\"\n",
            "\n",
            "\"Pizza is the most famous italian food this weekend because Michael doesn't want to go out.\"</s>\n"
          ]
        }
      ]
    },
    {
      "cell_type": "markdown",
      "source": [
        "These sentences don't make any sense."
      ],
      "metadata": {
        "id": "qHey8I_d_psX"
      }
    },
    {
      "cell_type": "code",
      "source": [
        "sentence_1 = \"Michael doesn't want to go out this weekend because it's raining.\"\n",
        "sentence_2 = \"Pizza is the most famous italian food.\"\n",
        "prompt_5 = 'Perform the crossover between these sentences: \"' + sentence_1 + '\", \"' + sentence_2 + '\" Now casually generate the offsprings in such a way that they have sense.'"
      ],
      "metadata": {
        "id": "Gy5w_AWt_xvD"
      },
      "execution_count": null,
      "outputs": []
    },
    {
      "cell_type": "code",
      "source": [
        "inputs = tokenizer(prompt_5, return_tensors=\"pt\")[\"input_ids\"].cuda()\n",
        "outputs = model.generate(inputs, max_new_tokens=60)\n",
        "print(tokenizer.decode(outputs[0]))"
      ],
      "metadata": {
        "colab": {
          "base_uri": "https://localhost:8080/"
        },
        "id": "tcWSm8oR_9P2",
        "outputId": "4493b70b-fc60-4d6c-b42d-5234b79acd2c"
      },
      "execution_count": null,
      "outputs": [
        {
          "output_type": "stream",
          "name": "stderr",
          "text": [
            "Dec 03 10:10:01.042 [\u001b[1m\u001b[34mINFO\u001b[0m] Route found: 0:80 via …V7nCc2\n"
          ]
        },
        {
          "output_type": "stream",
          "name": "stdout",
          "text": [
            " Perform the crossover between these sentences: \"Michael doesn't want to go out this weekend because it's raining.\", \"Pizza is the most famous italian food.\" Now casually generate the offsprings in such a way that they have sense.\n",
            "\n",
            "Answer: \"Michael doesn't want to go out this weekend because it's raining, so he's ordering pizza, which is the most famous Italian food.\"</s>\n"
          ]
        }
      ]
    },
    {
      "cell_type": "markdown",
      "source": [
        "The result is a single much longer sentence that actually make sence."
      ],
      "metadata": {
        "id": "m5pPLBiXAVRC"
      }
    },
    {
      "cell_type": "markdown",
      "source": [
        "\n",
        "So far, we've just tested with few examples how Stable Beluga 2 (without any fine-tuning) manage the crossover between words. Different models will show different results. Look at how Google Bard works:\n",
        "\n",
        "![Schermata del 2023-12-03 11-14-19.png](data:image/png;base64,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)\n",
        "\n",
        "\n"
      ],
      "metadata": {
        "id": "8n-_jqsaKBYq"
      }
    },
    {
      "cell_type": "markdown",
      "source": [
        "# Part 2: Mutation of a sentence\n",
        "\n",
        "We want the language model to perform a casual mutation in a given sentence. Again, we want to test different prompts for this operation.\n",
        "The starting sentence will be:\n",
        "\n",
        "*Mark wants to eat a pizza.*\n",
        "\n"
      ],
      "metadata": {
        "id": "zINPnMKmMJAB"
      }
    },
    {
      "cell_type": "code",
      "source": [
        "prompt_6 = 'Rewrite the sentence with a random mutation: \"Mark wants to eat a pizza\".'"
      ],
      "metadata": {
        "id": "VJ1TRevuTW57"
      },
      "execution_count": null,
      "outputs": []
    },
    {
      "cell_type": "code",
      "source": [
        "inputs = tokenizer(prompt_6, return_tensors=\"pt\")[\"input_ids\"].cuda()\n",
        "outputs = model.generate(inputs, max_new_tokens=60)\n",
        "print(tokenizer.decode(outputs[0]))"
      ],
      "metadata": {
        "colab": {
          "base_uri": "https://localhost:8080/"
        },
        "id": "M0V1RtdRT2Nl",
        "outputId": "a37bb21d-1d8c-4e2c-caad-0609f015c285"
      },
      "execution_count": null,
      "outputs": [
        {
          "output_type": "stream",
          "name": "stderr",
          "text": [
            "Dec 03 10:55:11.045 [\u001b[1m\u001b[34mINFO\u001b[0m] Route found: 0:80 via …V7nCc2\n"
          ]
        },
        {
          "output_type": "stream",
          "name": "stdout",
          "text": [
            "Rewrite the sentence with a random mutation: \"Mark wants to eat a pizza\".\n",
            "\n",
            "```\n",
            "Mark wants to eat a pizza.\n",
            "```\n",
            "\n",
            "```\n",
            "Mark wants to eat a burger.\n",
            "```\n",
            "\n",
            "The mutation is a simple replacement of the word \"pizza\" with \"burger\".\n",
            "\n",
            "Now, let's say we want to mut\n"
          ]
        }
      ]
    },
    {
      "cell_type": "markdown",
      "source": [
        "Not bad, but we don't want anything else printed than the mutated sentence. Let's try this:"
      ],
      "metadata": {
        "id": "bzQHEvUxUu9t"
      }
    },
    {
      "cell_type": "code",
      "source": [
        "prompt_7 = 'Rewrite the sentence with a random mutation: \"Mark wants to eat a pizza\". Mutated sentence : '"
      ],
      "metadata": {
        "id": "EG_lpaXtYTQX"
      },
      "execution_count": null,
      "outputs": []
    },
    {
      "cell_type": "code",
      "source": [
        "inputs = tokenizer(prompt_7, return_tensors=\"pt\")[\"input_ids\"].cuda()\n",
        "outputs = model.generate(inputs, max_new_tokens=60)\n",
        "print(tokenizer.decode(outputs[0]))"
      ],
      "metadata": {
        "colab": {
          "base_uri": "https://localhost:8080/"
        },
        "id": "hQKP_LsiYezx",
        "outputId": "fe80e770-8747-4478-e07b-75da9d7dde2d"
      },
      "execution_count": null,
      "outputs": [
        {
          "output_type": "stream",
          "name": "stderr",
          "text": [
            "Dec 03 11:26:07.044 [\u001b[1m\u001b[34mINFO\u001b[0m] Route found: 0:80 via …V7nCc2\n"
          ]
        },
        {
          "output_type": "stream",
          "name": "stdout",
          "text": [
            " Rewrite the sentence with a random mutation: \"Mark wants to eat a pizza\". Mutated sentence :  \"Mark wants to eat a burger\".\n",
            "\n",
            "Answer: Mark wants to eat a burger.</s>\n"
          ]
        }
      ]
    },
    {
      "cell_type": "markdown",
      "source": [
        "In order to automatize all the processed involved in GA, we need the model to output the sentences in a precise format. The output of the crossover or mutation will be insered in another prompt. In this last case, the output contains also the input sentence and then, instead of writing only once the mutated version of the input, it duplicates it."
      ],
      "metadata": {
        "id": "y8QNKFSecfmV"
      }
    },
    {
      "cell_type": "markdown",
      "source": [
        "To remove the input sequence to the output we simply do this:"
      ],
      "metadata": {
        "id": "q-QknM_wiPkz"
      }
    },
    {
      "cell_type": "code",
      "source": [
        "input_length = len(tokenizer(prompt_7)[\"input_ids\"])\n",
        "print(tokenizer.decode(outputs[0,input_length:]))"
      ],
      "metadata": {
        "colab": {
          "base_uri": "https://localhost:8080/"
        },
        "id": "9bqKt64uhEQP",
        "outputId": "c323f89d-eca6-4974-bce1-c21fa14be330"
      },
      "execution_count": null,
      "outputs": [
        {
          "output_type": "stream",
          "name": "stdout",
          "text": [
            " \"Mark wants to eat a burger\".\n",
            "\n",
            "Answer: Mark wants to eat a burger.</s>\n"
          ]
        }
      ]
    },
    {
      "cell_type": "code",
      "source": [
        "prompt_8 = 'Write a sentence similar to \"Mark wants to eat a pizza.\", but with some random differences. The response must be a single sentence. Write here: '"
      ],
      "metadata": {
        "id": "siDbY5beisqu"
      },
      "execution_count": null,
      "outputs": []
    },
    {
      "cell_type": "code",
      "source": [
        "inputs = tokenizer(prompt_8, return_tensors=\"pt\")[\"input_ids\"].cuda()\n",
        "input_length = len(tokenizer(prompt_8)[\"input_ids\"])\n",
        "outputs = model.generate(inputs, max_new_tokens=60)\n",
        "print(tokenizer.decode(outputs[0,input_length:]))"
      ],
      "metadata": {
        "colab": {
          "base_uri": "https://localhost:8080/"
        },
        "id": "lmiElnKCix7g",
        "outputId": "c11abae1-9a12-4740-d7d3-30a4e797e883"
      },
      "execution_count": null,
      "outputs": [
        {
          "output_type": "stream",
          "name": "stderr",
          "text": [
            "Dec 03 12:12:29.276 [\u001b[1m\u001b[34mINFO\u001b[0m] Route found: 0:80 via …V7nCc2\n"
          ]
        },
        {
          "output_type": "stream",
          "name": "stdout",
          "text": [
            " \n",
            "\n",
            "Mark wants to eat a burger.</s>\n"
          ]
        }
      ]
    },
    {
      "cell_type": "markdown",
      "source": [
        "That's what we want (notice that again the model substituted pizza with burger). To be sure that it works, we test a more complex sentence."
      ],
      "metadata": {
        "id": "h8E9VepCmKOC"
      }
    },
    {
      "cell_type": "code",
      "source": [
        "sentence_3 = 'I prefer to play football instead of watching a boring movie like this!'\n",
        "prompt_9 = 'Write a sentence similar to \"' + sentence_3 + '\", but with some random differences. The response must be a single sentence. Write here: '\n",
        "print(prompt_9)"
      ],
      "metadata": {
        "colab": {
          "base_uri": "https://localhost:8080/"
        },
        "id": "XapvsJETml2s",
        "outputId": "7c36e37b-027d-4806-cfb3-e8a03cfa70bc"
      },
      "execution_count": null,
      "outputs": [
        {
          "output_type": "stream",
          "name": "stdout",
          "text": [
            "Write a sentence similar to \"I prefer to play football instead of watching a boring movie like this!\", but with some random differences. The response must be a single sentence. Write here: \n"
          ]
        }
      ]
    },
    {
      "cell_type": "code",
      "source": [
        "inputs = tokenizer(prompt_9, return_tensors=\"pt\")[\"input_ids\"].cuda()\n",
        "input_length = len(tokenizer(prompt_9)[\"input_ids\"])\n",
        "outputs = model.generate(inputs, max_new_tokens=60)\n",
        "print(tokenizer.decode(outputs[0,input_length:]))"
      ],
      "metadata": {
        "colab": {
          "base_uri": "https://localhost:8080/"
        },
        "id": "oxx3N-BlnT-d",
        "outputId": "6b9df291-3843-4015-df06-d500b34f535b"
      },
      "execution_count": null,
      "outputs": [
        {
          "output_type": "stream",
          "name": "stderr",
          "text": [
            "Dec 03 12:18:17.596 [\u001b[1m\u001b[34mINFO\u001b[0m] Route found: 0:80 via …V7nCc2\n"
          ]
        },
        {
          "output_type": "stream",
          "name": "stdout",
          "text": [
            " \n",
            "\n",
            "I prefer to play basketball instead of watching a boring movie like this!</s>\n"
          ]
        }
      ]
    },
    {
      "cell_type": "markdown",
      "source": [
        "Good, but we may want to add more mutations to the sentence."
      ],
      "metadata": {
        "id": "LU9JFhkengWA"
      }
    },
    {
      "cell_type": "code",
      "source": [
        "prompt_10 = 'Write a sentence similar to \"' + sentence_3 + '\", but with many random differences. The response must be a single sentence. Write here: '\n",
        "print(prompt_10)"
      ],
      "metadata": {
        "colab": {
          "base_uri": "https://localhost:8080/"
        },
        "id": "Y4Pf5cPrnpVy",
        "outputId": "b2c8740f-23e8-40e8-c83e-5a1aa008ab7d"
      },
      "execution_count": null,
      "outputs": [
        {
          "output_type": "stream",
          "name": "stdout",
          "text": [
            "Write a sentence similar to \"I prefer to play football instead of watching a boring movie like this!\", but with many random differences. The response must be a single sentence. Write here: \n"
          ]
        }
      ]
    },
    {
      "cell_type": "code",
      "source": [
        "inputs = tokenizer(prompt_10, return_tensors=\"pt\")[\"input_ids\"].cuda()\n",
        "input_length = len(tokenizer(prompt_10)[\"input_ids\"])\n",
        "outputs = model.generate(inputs, max_new_tokens=60)\n",
        "print(tokenizer.decode(outputs[0,input_length:]))"
      ],
      "metadata": {
        "colab": {
          "base_uri": "https://localhost:8080/"
        },
        "id": "W9NFSFkQnzWp",
        "outputId": "7c60a57c-6b7a-402d-da16-0b9165ee89e7"
      },
      "execution_count": null,
      "outputs": [
        {
          "output_type": "stream",
          "name": "stderr",
          "text": [
            "Dec 03 12:27:06.008 [\u001b[1m\u001b[34mINFO\u001b[0m] Route found: 0:80 via …V7nCc2\n"
          ]
        },
        {
          "output_type": "stream",
          "name": "stdout",
          "text": [
            " \n",
            "\n",
            "I would rather engage in an exhilarating game of basketball instead of enduring a tedious film such as this one!</s>\n"
          ]
        }
      ]
    },
    {
      "cell_type": "markdown",
      "source": [
        "# Part 3: EVOPROMPT\n",
        "\n",
        "In the paper [CONNECTING LARGE LANGUAGE MODELS WITH EVOLUTIONARY ALGORITHMS YELDS POWERFUL PROMPT OPTIMIZER](https://arxiv.org/abs/2309.08532) is proposed a framework called **EvoPrompt**. In this context, we aim to implement the crossover and mutation procedures outlined in the paper, particularly referring to Figure 1. It's essential to note that we've set `do_sample = True` to generate diverse results from the same input. This adjustment is crucial during the selection phase of the evolution cycle to prevent convergence to a single prompt that dominates the entire population, which would occur if we maintain deterministic generation.\n",
        "\n",
        "\n"
      ],
      "metadata": {
        "id": "0SYI2VK0P9eX"
      }
    },
    {
      "cell_type": "code",
      "source": [
        "def evolution(sentence_1, sentence_2,max_token = 60):\n",
        "  query = 'Please follow the instruction step-by-step to generate a better prompt.\\n 1. Cross over the following prompts and generate a new prompt:\\n Prompt 1: '+ str(sentence_1) + '\\n Prompt 2: ' + str(sentence_2) + '\\n 2. Mutate the prompt generated in Step 1 and generate a final prompt bracketed with <prompt> and </prompt>'\n",
        "  inputs = tokenizer(query, return_tensors=\"pt\")[\"input_ids\"].cuda()\n",
        "  input_length = len(tokenizer(query)[\"input_ids\"])\n",
        "  outputs = model.generate(inputs,do_sample = True,  max_new_tokens=max_token)\n",
        "  result = tokenizer.decode(outputs[0,input_length:])\n",
        "  return str(result)"
      ],
      "metadata": {
        "id": "xW76G9_fRla-"
      },
      "execution_count": null,
      "outputs": []
    },
    {
      "cell_type": "code",
      "source": [
        "result = evolution(\"Why does time fly so quickly?\",\"Where do dreams hide their secrets?\")\n",
        "print(result)"
      ],
      "metadata": {
        "colab": {
          "base_uri": "https://localhost:8080/"
        },
        "id": "HU-OrAcLUa-r",
        "outputId": "60ab09f6-6d2d-4ca9-cdb5-5267ee36e925"
      },
      "execution_count": null,
      "outputs": [
        {
          "output_type": "stream",
          "name": "stderr",
          "text": [
            "Dec 13 10:43:19.235 [\u001b[1m\u001b[34mINFO\u001b[0m] Route found: 0:40 via …XiRW97 => 40:80 via …8De8gC\n"
          ]
        },
        {
          "output_type": "stream",
          "name": "stdout",
          "text": [
            " \n",
            "  <prompt>Time flies because something is hidden within our dreams. What does it reveal about the nature of time?</prompt></s>\n"
          ]
        }
      ]
    },
    {
      "cell_type": "markdown",
      "source": [
        "It looks ok! Then if we want a better output:"
      ],
      "metadata": {
        "id": "zOnPVKVWWcHD"
      }
    },
    {
      "cell_type": "code",
      "source": [
        "import re\n",
        "\n",
        "def extract_content(input_string):\n",
        "    pattern = r'<prompt>(.*?)</prompt>'\n",
        "    matches = re.search(pattern, input_string)\n",
        "\n",
        "    if matches:\n",
        "        return matches.group(1)\n",
        "    else:\n",
        "        return \"No content found between <prompt> tags.\"\n"
      ],
      "metadata": {
        "id": "RO9caFR6WsLX"
      },
      "execution_count": null,
      "outputs": []
    },
    {
      "cell_type": "code",
      "source": [
        "untagged_result = extract_content(result)\n",
        "print(untagged_result)\n"
      ],
      "metadata": {
        "colab": {
          "base_uri": "https://localhost:8080/"
        },
        "id": "7y-ECzVLWwR3",
        "outputId": "9303a4a4-36d7-4903-9bff-ca8d72badd8b"
      },
      "execution_count": null,
      "outputs": [
        {
          "output_type": "stream",
          "name": "stdout",
          "text": [
            "What is the secret to making time fly in our dreams?\n"
          ]
        }
      ]
    },
    {
      "cell_type": "markdown",
      "source": [
        "# Part 4: A first GA implementation\n",
        "\n",
        "Now that we have tested how to perform crossover and mutation, let's build the first program to automatize these processes and finally have a GA implementation for prompts.\n",
        "\n",
        "## Initialization\n",
        "1. **Population Creation**: Start a population of random candidate solutions.\n",
        "\n",
        "    (These  random sentences are generated by Google Bard)\n",
        "\n",
        "\n",
        "\n",
        "\n"
      ],
      "metadata": {
        "id": "susgHnu-rM0K"
      }
    },
    {
      "cell_type": "code",
      "source": [
        "population = [\n",
        "    \"In the symphony of life, what instrument plays the melody of resilience?\",\n",
        "    \"In the realm of human emotions, what color represents the essence of hope?\",\n",
        "    \"Among the vast expanse of nature, what phenomenon serves as a testament to the power of transformation?\",\n",
        "    \"In the tapestry of cultures, what symbol embodies the essence of peace and understanding?\",\n",
        "    \"In the relentless pursuit of dreams, what ingredient holds the key to unwavering determination?\",\n",
        "    \"Amidst the complexities of relationships, what language transcends the boundaries of spoken words?\",\n",
        "    \"In the depths of human thought, what question has the potential to spark the greatest breakthroughs?\",\n",
        "    \"In the corridors of time, what memory holds the power to evoke the strongest emotions?\",\n",
        "    \"Among the vast expanse of the universe, what celestial object holds the allure of infinite mystery?\",\n",
        "    \"In the depths of our own minds, what hidden potential awaits to be discovered and unleashed?\"\n",
        "]\n"
      ],
      "metadata": {
        "id": "8p7Gg8FxuUJt"
      },
      "execution_count": null,
      "outputs": []
    },
    {
      "cell_type": "markdown",
      "source": [
        "## Evaluation\n",
        "1. **Fitness Evaluation**: Assess the fitness of each individual in the population. The fitness function quantifies how good or bad each solution is with respect to the problem's requirements. Higher fitness indicates a better solution.\n",
        "\n",
        "In this particular case our fitness score is the count of `a` or `A` in the output sentence (**60 new tokens are generated**). Consider also that generating new tokens could be non deterministic. Here, by default the model set to `False` the **do_sample()** parameter ([check here](https://huggingface.co/docs/transformers/main_classes/text_generation)) and a greedy decoding is used. Otherwise we should consider an expected score."
      ],
      "metadata": {
        "id": "j2Khbs2Zu868"
      }
    },
    {
      "cell_type": "code",
      "source": [
        "def count_a(string):\n",
        "    count = 0\n",
        "    for char in string:\n",
        "        if char == 'a' or char == 'A':\n",
        "            count += 1\n",
        "    return count"
      ],
      "metadata": {
        "id": "ILqUv_tCv3mZ"
      },
      "execution_count": null,
      "outputs": []
    },
    {
      "cell_type": "code",
      "source": [
        "def eval_prompt(prompt):\n",
        "  inputs = tokenizer(prompt, return_tensors=\"pt\")[\"input_ids\"].cuda()\n",
        "  input_length = len(tokenizer(prompt)[\"input_ids\"])\n",
        "  outputs = model.generate(inputs, max_new_tokens=60)\n",
        "  result = tokenizer.decode(outputs[0,input_length:])\n",
        "\n",
        "  return count_a(result)"
      ],
      "metadata": {
        "id": "BIYel6v93nNm"
      },
      "execution_count": null,
      "outputs": []
    },
    {
      "cell_type": "code",
      "source": [
        "fitness = []\n",
        "for sentence in population:\n",
        "  score = eval_prompt(sentence)\n",
        "\n",
        "  fitness.append(score)"
      ],
      "metadata": {
        "colab": {
          "base_uri": "https://localhost:8080/"
        },
        "id": "GxhnyppU4IGv",
        "outputId": "3c02f858-1849-4edf-b844-8f16d6d541fb"
      },
      "execution_count": null,
      "outputs": [
        {
          "output_type": "stream",
          "name": "stderr",
          "text": [
            "Dec 17 10:36:58.462 [\u001b[1m\u001b[34mINFO\u001b[0m] Route found: 0:80 via …17Ahg5\n",
            "Dec 17 10:37:38.442 [\u001b[1m\u001b[34mINFO\u001b[0m] Route found: 0:80 via …17Ahg5\n",
            "Dec 17 10:38:05.766 [\u001b[1m\u001b[34mINFO\u001b[0m] Route found: 0:80 via …17Ahg5\n",
            "Dec 17 10:38:32.046 [\u001b[1m\u001b[34mINFO\u001b[0m] Route found: 0:80 via …17Ahg5\n",
            "Dec 17 10:39:04.697 [\u001b[1m\u001b[34mINFO\u001b[0m] Route found: 0:80 via …17Ahg5\n",
            "Dec 17 10:39:38.475 [\u001b[1m\u001b[34mINFO\u001b[0m] Route found: 0:80 via …17Ahg5\n",
            "Dec 17 10:40:07.511 [\u001b[1m\u001b[34mINFO\u001b[0m] Route found: 0:80 via …17Ahg5\n",
            "Dec 17 10:40:39.404 [\u001b[1m\u001b[34mINFO\u001b[0m] Route found: 0:80 via …17Ahg5\n",
            "Dec 17 10:41:07.223 [\u001b[1m\u001b[34mINFO\u001b[0m] Route found: 0:80 via …17Ahg5\n",
            "Dec 17 10:41:34.151 [\u001b[1m\u001b[34mINFO\u001b[0m] Route found: 0:80 via …17Ahg5\n"
          ]
        }
      ]
    },
    {
      "cell_type": "code",
      "source": [
        "for i in range(len(fitness)):\n",
        "  print('Prompt: ' + population[i] + ' -- Score: ' + str(fitness[i]))"
      ],
      "metadata": {
        "colab": {
          "base_uri": "https://localhost:8080/"
        },
        "id": "PP596sjQ6E1i",
        "outputId": "46112686-12e7-4bf7-aca5-16c01f4a445f"
      },
      "execution_count": null,
      "outputs": [
        {
          "output_type": "stream",
          "name": "stdout",
          "text": [
            "Prompt: In the symphony of life, what instrument plays the melody of resilience? -- Score: 14\n",
            "Prompt: In the realm of human emotions, what color represents the essence of hope? -- Score: 11\n",
            "Prompt: Among the vast expanse of nature, what phenomenon serves as a testament to the power of transformation? -- Score: 19\n",
            "Prompt: In the tapestry of cultures, what symbol embodies the essence of peace and understanding? -- Score: 11\n",
            "Prompt: In the relentless pursuit of dreams, what ingredient holds the key to unwavering determination? -- Score: 11\n",
            "Prompt: Amidst the complexities of relationships, what language transcends the boundaries of spoken words? -- Score: 18\n",
            "Prompt: In the depths of human thought, what question has the potential to spark the greatest breakthroughs? -- Score: 15\n",
            "Prompt: In the corridors of time, what memory holds the power to evoke the strongest emotions? -- Score: 12\n",
            "Prompt: Among the vast expanse of the universe, what celestial object holds the allure of infinite mystery? -- Score: 14\n",
            "Prompt: In the depths of our own minds, what hidden potential awaits to be discovered and unleashed? -- Score: 12\n"
          ]
        }
      ]
    },
    {
      "cell_type": "markdown",
      "source": [
        "Now we have an initial population and its fitness values."
      ],
      "metadata": {
        "id": "uFBUOvNw6psX"
      }
    },
    {
      "cell_type": "markdown",
      "source": [
        "## Selection\n",
        "1. **Selection of Parents**: Choose individuals from the current population to be parents for the next generation.\n",
        "\n"
      ],
      "metadata": {
        "id": "uwf20jb5AfTI"
      }
    },
    {
      "cell_type": "markdown",
      "source": [
        "For this simple example we implement the *tournament selection*:"
      ],
      "metadata": {
        "id": "C7d-eAeRbIhs"
      }
    },
    {
      "cell_type": "code",
      "source": [
        "import random\n",
        "\n",
        "def tournament_selection(population, tournament_size, N):\n",
        "    selected_prompts = []\n",
        "\n",
        "    for _ in range(N):\n",
        "        tournament_indices = random.sample(range(len(population)), tournament_size)\n",
        "        tournament_candidates = [population[i] for i in tournament_indices]\n",
        "\n",
        "        # Sort candidates by fitness and select the one with the highest fitness\n",
        "        tournament_candidates.sort(key=lambda x: x[1], reverse=True)\n",
        "        selected_prompts.append(tournament_candidates[0])\n",
        "\n",
        "    return selected_prompts\n",
        "\n",
        "\n"
      ],
      "metadata": {
        "id": "XwUlXCHBbgoG"
      },
      "execution_count": null,
      "outputs": []
    },
    {
      "cell_type": "markdown",
      "source": [
        "## Final implementation\n",
        "\n",
        "We can finally write the entire evolutionary algorithm. We also store the fitness values of each prompt in the *evolution_data.txt* file.\n",
        "\n",
        "\n",
        "\n"
      ],
      "metadata": {
        "id": "gis8MP3qg4u4"
      }
    },
    {
      "cell_type": "code",
      "source": [
        "def save_population(iteration, population):\n",
        "    filename = 'evolution_data.txt'\n",
        "    with open(filename, 'a') as file:\n",
        "        # Check if the file exists, if not, create it and add headers\n",
        "        if file.tell() == 0:\n",
        "            file.write(\"Evolution Data:\\n\")\n",
        "            file.write(\"---------------\\n\")\n",
        "            file.write(\"Iteration | String | Fitness\\n\")\n",
        "\n",
        "        file.write(f\"Iteration {iteration}:\\n\")\n",
        "        for i in range(len(population)):\n",
        "            file.write(f\"{iteration} | {population[i][0]} | {population[i][1]}\\n\")\n"
      ],
      "metadata": {
        "id": "cC_CNU1amrrn"
      },
      "execution_count": null,
      "outputs": []
    },
    {
      "cell_type": "code",
      "source": [
        "def evolve( max_iteration ,initial_population,initial_fitness = [], tournament_size = 5, max_token = 60 ):\n",
        "\n",
        "  N = len(initial_population)\n",
        "\n",
        "  if not os.path.exists('evolution_data.txt'):\n",
        "        iter = 0  # If the file doesn't exist, start from iteration 0\n",
        "  else:\n",
        "        try:\n",
        "            with open('evolution_data.txt', 'r') as file:\n",
        "                lines = file.readlines()\n",
        "                if len(lines) > 3:  # Checking if there is data in the file\n",
        "                    last_line = lines[-1].split('|')\n",
        "                    if len(last_line) > 0:\n",
        "                        last_iteration = int(last_line[0].split()[0])  # Extracting the last iteration number\n",
        "\n",
        "                        # Extract the last iteration's population data\n",
        "                        last_iter_lines = [line for line in lines if line.startswith(f'{last_iteration} |')]\n",
        "                        population = []\n",
        "                        for line in last_iter_lines:\n",
        "                            data = line.split('|')\n",
        "                            population.append([data[1].strip(), int(data[2].strip())])\n",
        "                        print(population)\n",
        "                        iter = last_iteration + 1  # Set the iteration for the next cycle\n",
        "                    else:\n",
        "                        iter = 0  # If there's an issue with the file content, start from iteration 0\n",
        "                else:\n",
        "                    iter = 0  # If the file is empty, start from iteration 0\n",
        "        except (ValueError, IndexError):\n",
        "            iter = 0  # If there's an issue with file reading or parsing, start from iteration 0\n",
        "\n",
        "  if iter == 0:\n",
        "\n",
        "    population = []\n",
        "    if initial_fitness == []:\n",
        "      for sentence in initial_population:\n",
        "        score = eval_prompt(sentence)\n",
        "        #print('Sentence: ' + str(sentence) + '  score: ' + str(score))\n",
        "        population.append([sentence,score])\n",
        "    else:\n",
        "      for i in range(len(initial_population)):\n",
        "        population.append([initial_population[i],initial_fitness[i]])\n",
        "\n",
        "\n",
        "  while iter < max_iteration:\n",
        "    print('iter:' + str(iter))\n",
        "    new_pop = []\n",
        "\n",
        "    for prompt in population:\n",
        "      #new_elements = []\n",
        "\n",
        "      #print('crossover and mutation of the sentence: ' + str(prompt[0]))\n",
        "      sentence_2 = random.choice(population)[0]\n",
        "      offspring = evolution(prompt[0], sentence_2, max_token)\n",
        "      offspring = extract_content(offspring)\n",
        "\n",
        "      offspring_fitness = eval_prompt(offspring)\n",
        "      #print('Evaluating sentence: ' + str(offspring) + '\\n Fitness score --> ' + str(offspring_fitness) )\n",
        "      new_pop.append([offspring,offspring_fitness])\n",
        "\n",
        "    population = population + new_pop\n",
        "    population = tournament_selection(population,tournament_size,N)\n",
        "    save_population(iter,population)\n",
        "\n",
        "    iter += 1\n",
        "\n",
        "  return population"
      ],
      "metadata": {
        "id": "76Qte7S0oc20"
      },
      "execution_count": null,
      "outputs": []
    },
    {
      "cell_type": "code",
      "source": [
        "evolve(20,population,fitness)"
      ],
      "metadata": {
        "colab": {
          "base_uri": "https://localhost:8080/"
        },
        "id": "-rrHgv7n14SO",
        "outputId": "377c0cec-4b7e-46fc-9c64-a2f712b6e1f0"
      },
      "execution_count": null,
      "outputs": [
        {
          "output_type": "stream",
          "name": "stderr",
          "text": [
            "Dec 17 10:42:02.429 [\u001b[1m\u001b[34mINFO\u001b[0m] Route found: 0:80 via …17Ahg5\n"
          ]
        },
        {
          "output_type": "stream",
          "name": "stdout",
          "text": [
            "[['What symbol represents a universal language that transcends the constraints of verbal communication in human interactions across cultures?', 30], ['What symbol represents a universal language that transcends the constraints of verbal communication in human interactions across cultures?', 30], ['What symbol represents a universal language that transcends the constraints of verbal communication in human interactions across cultures?', 30], ['What symbol represents a universal language that transcends the constraints of verbal communication in human interactions across cultures?', 30], ['What symbol represents a universal language that transcends the constraints of verbal communication in human interactions across cultures?', 30], ['What symbol represents a universal language that transcends the constraints of verbal communication in human interactions across cultures?', 30], ['What symbol represents a universal language that transcends the constraints of verbal communication in human interactions across cultures?', 30], ['What symbol represents a universal language that transcends the constraints of verbal communication in human interactions across cultures?', 30], ['What symbol represents a universal language that transcends the constraints of verbal communication in human interactions across cultures?', 30], ['What symbol represents a universal language that transcends the constraints of verbal communication in human interactions across cultures?', 30]]\n",
            "iter:13\n"
          ]
        },
        {
          "output_type": "stream",
          "name": "stderr",
          "text": [
            "Dec 17 10:42:23.836 [\u001b[1m\u001b[34mINFO\u001b[0m] Route found: 0:80 via …17Ahg5\n",
            "Dec 17 10:42:49.795 [\u001b[1m\u001b[34mINFO\u001b[0m] Route found: 0:80 via …17Ahg5\n",
            "Dec 17 10:43:16.993 [\u001b[1m\u001b[34mINFO\u001b[0m] Route found: 0:80 via …17Ahg5\n",
            "Dec 17 10:43:44.018 [\u001b[1m\u001b[34mINFO\u001b[0m] Route found: 0:80 via …17Ahg5\n",
            "Dec 17 10:44:09.165 [\u001b[1m\u001b[34mINFO\u001b[0m] Route found: 0:80 via …17Ahg5\n",
            "Dec 17 10:44:36.695 [\u001b[1m\u001b[34mINFO\u001b[0m] Route found: 0:80 via …17Ahg5\n",
            "Dec 17 10:44:55.875 [\u001b[1m\u001b[34mINFO\u001b[0m] Route found: 0:80 via …17Ahg5\n",
            "Dec 17 10:45:22.183 [\u001b[1m\u001b[34mINFO\u001b[0m] Route found: 0:80 via …17Ahg5\n",
            "Dec 17 10:45:48.246 [\u001b[1m\u001b[34mINFO\u001b[0m] Route found: 0:80 via …17Ahg5\n",
            "Dec 17 10:46:13.869 [\u001b[1m\u001b[34mINFO\u001b[0m] Route found: 0:80 via …17Ahg5\n",
            "Dec 17 10:46:31.419 [\u001b[1m\u001b[34mINFO\u001b[0m] Route found: 0:80 via …17Ahg5\n",
            "Dec 17 10:46:57.765 [\u001b[1m\u001b[34mINFO\u001b[0m] Route found: 0:80 via …17Ahg5\n",
            "Dec 17 10:47:19.163 [\u001b[1m\u001b[34mINFO\u001b[0m] Route found: 0:80 via …17Ahg5\n",
            "Dec 17 10:47:45.427 [\u001b[1m\u001b[34mINFO\u001b[0m] Route found: 0:80 via …17Ahg5\n",
            "Dec 17 10:48:05.092 [\u001b[1m\u001b[34mINFO\u001b[0m] Route found: 0:80 via …17Ahg5\n",
            "Dec 17 10:48:31.550 [\u001b[1m\u001b[34mINFO\u001b[0m] Route found: 0:80 via …17Ahg5\n",
            "Dec 17 10:48:51.955 [\u001b[1m\u001b[34mINFO\u001b[0m] Route found: 0:80 via …17Ahg5\n",
            "Dec 17 10:49:23.490 [\u001b[1m\u001b[34mINFO\u001b[0m] Route found: 0:80 via …17Ahg5\n",
            "Dec 17 10:49:54.069 [\u001b[1m\u001b[34mINFO\u001b[0m] Route found: 0:80 via …17Ahg5\n",
            "Dec 17 10:50:18.796 [\u001b[1m\u001b[34mINFO\u001b[0m] Route found: 0:80 via …17Ahg5\n"
          ]
        },
        {
          "output_type": "stream",
          "name": "stdout",
          "text": [
            "iter:14\n"
          ]
        },
        {
          "output_type": "stream",
          "name": "stderr",
          "text": [
            "Dec 17 10:50:50.313 [\u001b[1m\u001b[34mINFO\u001b[0m] Route found: 0:80 via …17Ahg5\n",
            "Dec 17 10:51:16.071 [\u001b[1m\u001b[34mINFO\u001b[0m] Route found: 0:80 via …17Ahg5\n",
            "Dec 17 10:51:42.753 [\u001b[1m\u001b[34mINFO\u001b[0m] Route found: 0:80 via …17Ahg5\n",
            "Dec 17 10:52:10.524 [\u001b[1m\u001b[34mINFO\u001b[0m] Route found: 0:80 via …17Ahg5\n",
            "Dec 17 10:52:31.339 [\u001b[1m\u001b[34mINFO\u001b[0m] Route found: 0:80 via …17Ahg5\n",
            "Dec 17 10:52:56.513 [\u001b[1m\u001b[34mINFO\u001b[0m] Route found: 0:80 via …17Ahg5\n",
            "Dec 17 10:53:19.611 [\u001b[1m\u001b[34mINFO\u001b[0m] Route found: 0:80 via …17Ahg5\n",
            "Dec 17 10:53:45.020 [\u001b[1m\u001b[34mINFO\u001b[0m] Route found: 0:80 via …17Ahg5\n",
            "Dec 17 10:54:03.866 [\u001b[1m\u001b[34mINFO\u001b[0m] Route found: 0:80 via …17Ahg5\n",
            "Dec 17 10:54:30.273 [\u001b[1m\u001b[34mINFO\u001b[0m] Route found: 0:80 via …17Ahg5\n",
            "Dec 17 10:54:53.976 [\u001b[1m\u001b[34mINFO\u001b[0m] Route found: 0:80 via …17Ahg5\n",
            "Dec 17 10:55:19.081 [\u001b[1m\u001b[34mINFO\u001b[0m] Route found: 0:80 via …17Ahg5\n",
            "Dec 17 10:55:37.391 [\u001b[1m\u001b[34mINFO\u001b[0m] Route found: 0:80 via …17Ahg5\n",
            "Dec 17 10:56:03.702 [\u001b[1m\u001b[34mINFO\u001b[0m] Route found: 0:80 via …17Ahg5\n",
            "Dec 17 10:56:30.323 [\u001b[1m\u001b[34mINFO\u001b[0m] Route found: 0:80 via …17Ahg5\n",
            "Dec 17 10:56:54.650 [\u001b[1m\u001b[34mINFO\u001b[0m] Route found: 0:80 via …17Ahg5\n",
            "Dec 17 10:57:13.672 [\u001b[1m\u001b[34mINFO\u001b[0m] Route found: 0:80 via …17Ahg5\n",
            "Dec 17 10:57:38.029 [\u001b[1m\u001b[34mINFO\u001b[0m] Route found: 0:80 via …17Ahg5\n",
            "Dec 17 10:57:54.908 [\u001b[1m\u001b[34mINFO\u001b[0m] Route found: 0:80 via …17Ahg5\n",
            "Dec 17 10:58:20.499 [\u001b[1m\u001b[34mINFO\u001b[0m] Route found: 0:80 via …17Ahg5\n"
          ]
        },
        {
          "output_type": "stream",
          "name": "stdout",
          "text": [
            "iter:15\n"
          ]
        },
        {
          "output_type": "stream",
          "name": "stderr",
          "text": [
            "Dec 17 10:58:46.635 [\u001b[1m\u001b[34mINFO\u001b[0m] Route found: 0:80 via …17Ahg5\n",
            "Dec 17 10:59:10.938 [\u001b[1m\u001b[34mINFO\u001b[0m] Route found: 0:80 via …17Ahg5\n",
            "Dec 17 10:59:29.443 [\u001b[1m\u001b[34mINFO\u001b[0m] Route found: 0:80 via …17Ahg5\n",
            "Dec 17 10:59:55.799 [\u001b[1m\u001b[34mINFO\u001b[0m] Route found: 0:80 via …17Ahg5\n",
            "Dec 17 11:00:15.340 [\u001b[1m\u001b[34mINFO\u001b[0m] Route found: 0:80 via …17Ahg5\n",
            "Dec 17 11:00:44.966 [\u001b[1m\u001b[34mINFO\u001b[0m] Route found: 0:80 via …17Ahg5\n",
            "Dec 17 11:01:14.399 [\u001b[1m\u001b[34mINFO\u001b[0m] Route found: 0:80 via …17Ahg5\n",
            "Dec 17 11:01:41.033 [\u001b[1m\u001b[34mINFO\u001b[0m] Route found: 0:80 via …17Ahg5\n",
            "Dec 17 11:01:58.388 [\u001b[1m\u001b[34mINFO\u001b[0m] Route found: 0:80 via …17Ahg5\n",
            "Dec 17 11:02:22.860 [\u001b[1m\u001b[34mINFO\u001b[0m] Route found: 0:80 via …17Ahg5\n",
            "Dec 17 11:02:40.223 [\u001b[1m\u001b[34mINFO\u001b[0m] Route found: 0:80 via …17Ahg5\n",
            "Dec 17 11:03:04.801 [\u001b[1m\u001b[34mINFO\u001b[0m] Route found: 0:80 via …17Ahg5\n",
            "Dec 17 11:03:31.414 [\u001b[1m\u001b[34mINFO\u001b[0m] Route found: 0:80 via …17Ahg5\n",
            "Dec 17 11:03:58.894 [\u001b[1m\u001b[34mINFO\u001b[0m] Route found: 0:80 via …17Ahg5\n",
            "Dec 17 11:04:25.166 [\u001b[1m\u001b[34mINFO\u001b[0m] Route found: 0:80 via …17Ahg5\n",
            "Dec 17 11:04:52.211 [\u001b[1m\u001b[34mINFO\u001b[0m] Route found: 0:80 via …17Ahg5\n",
            "Dec 17 11:05:10.628 [\u001b[1m\u001b[34mINFO\u001b[0m] Route found: 0:80 via …17Ahg5\n",
            "Dec 17 11:05:35.090 [\u001b[1m\u001b[34mINFO\u001b[0m] Route found: 0:80 via …17Ahg5\n",
            "Dec 17 11:05:54.031 [\u001b[1m\u001b[34mINFO\u001b[0m] Route found: 0:80 via …17Ahg5\n",
            "Dec 17 11:06:18.446 [\u001b[1m\u001b[34mINFO\u001b[0m] Route found: 0:80 via …17Ahg5\n"
          ]
        },
        {
          "output_type": "stream",
          "name": "stdout",
          "text": [
            "iter:16\n"
          ]
        },
        {
          "output_type": "stream",
          "name": "stderr",
          "text": [
            "Dec 17 11:06:44.017 [\u001b[1m\u001b[34mINFO\u001b[0m] Route found: 0:80 via …17Ahg5\n",
            "Dec 17 11:07:08.161 [\u001b[1m\u001b[34mINFO\u001b[0m] Route found: 0:80 via …17Ahg5\n",
            "Dec 17 11:07:37.670 [\u001b[1m\u001b[34mINFO\u001b[0m] Route found: 0:80 via …17Ahg5\n",
            "Dec 17 11:08:04.034 [\u001b[1m\u001b[34mINFO\u001b[0m] Route found: 0:80 via …17Ahg5\n",
            "Dec 17 11:08:29.700 [\u001b[1m\u001b[34mINFO\u001b[0m] Route found: 0:80 via …17Ahg5\n",
            "Dec 17 11:08:56.098 [\u001b[1m\u001b[34mINFO\u001b[0m] Route found: 0:80 via …17Ahg5\n",
            "Dec 17 11:09:16.480 [\u001b[1m\u001b[34mINFO\u001b[0m] Route found: 0:80 via …17Ahg5\n",
            "Dec 17 11:09:40.711 [\u001b[1m\u001b[34mINFO\u001b[0m] Route found: 0:80 via …17Ahg5\n",
            "Dec 17 11:09:56.862 [\u001b[1m\u001b[34mINFO\u001b[0m] Route found: 0:80 via …17Ahg5\n",
            "Dec 17 11:10:20.744 [\u001b[1m\u001b[34mINFO\u001b[0m] Route found: 0:80 via …17Ahg5\n",
            "Dec 17 11:10:46.731 [\u001b[1m\u001b[34mINFO\u001b[0m] Route found: 0:80 via …17Ahg5\n",
            "Dec 17 11:11:11.513 [\u001b[1m\u001b[34mINFO\u001b[0m] Route found: 0:80 via …17Ahg5\n",
            "Dec 17 11:11:29.537 [\u001b[1m\u001b[34mINFO\u001b[0m] Route found: 0:80 via …17Ahg5\n",
            "Dec 17 11:11:55.604 [\u001b[1m\u001b[34mINFO\u001b[0m] Route found: 0:80 via …17Ahg5\n",
            "Dec 17 11:12:16.404 [\u001b[1m\u001b[34mINFO\u001b[0m] Route found: 0:80 via …17Ahg5\n",
            "Dec 17 11:12:43.410 [\u001b[1m\u001b[34mINFO\u001b[0m] Route found: 0:80 via …17Ahg5\n",
            "Dec 17 11:13:10.616 [\u001b[1m\u001b[34mINFO\u001b[0m] Route found: 0:80 via …17Ahg5\n",
            "Dec 17 11:13:40.902 [\u001b[1m\u001b[34mINFO\u001b[0m] Route found: 0:80 via …17Ahg5\n",
            "Dec 17 11:14:09.527 [\u001b[1m\u001b[34mINFO\u001b[0m] Route found: 0:80 via …17Ahg5\n",
            "Dec 17 11:14:33.885 [\u001b[1m\u001b[34mINFO\u001b[0m] Route found: 0:80 via …17Ahg5\n"
          ]
        },
        {
          "output_type": "stream",
          "name": "stdout",
          "text": [
            "iter:17\n"
          ]
        },
        {
          "output_type": "stream",
          "name": "stderr",
          "text": [
            "Dec 17 11:15:00.218 [\u001b[1m\u001b[34mINFO\u001b[0m] Route found: 0:80 via …17Ahg5\n",
            "Dec 17 11:15:27.814 [\u001b[1m\u001b[34mINFO\u001b[0m] Route found: 0:80 via …17Ahg5\n",
            "Dec 17 11:15:50.932 [\u001b[1m\u001b[34mINFO\u001b[0m] Route found: 0:80 via …17Ahg5\n",
            "Dec 17 11:16:15.274 [\u001b[1m\u001b[34mINFO\u001b[0m] Route found: 0:80 via …17Ahg5\n",
            "Dec 17 11:16:36.298 [\u001b[1m\u001b[34mINFO\u001b[0m] Route found: 0:80 via …17Ahg5\n",
            "Dec 17 11:16:56.340 [\u001b[1m\u001b[34mINFO\u001b[0m] Route found: 0:80 via …17Ahg5\n",
            "Dec 17 11:17:26.079 [\u001b[1m\u001b[34mINFO\u001b[0m] Route found: 0:80 via …17Ahg5\n",
            "Dec 17 11:17:51.703 [\u001b[1m\u001b[34mINFO\u001b[0m] Route found: 0:80 via …17Ahg5\n",
            "Dec 17 11:18:17.595 [\u001b[1m\u001b[34mINFO\u001b[0m] Route found: 0:80 via …17Ahg5\n",
            "Dec 17 11:18:41.920 [\u001b[1m\u001b[34mINFO\u001b[0m] Route found: 0:80 via …17Ahg5\n",
            "Dec 17 11:19:00.073 [\u001b[1m\u001b[34mINFO\u001b[0m] Route found: 0:80 via …17Ahg5\n",
            "Dec 17 11:19:24.891 [\u001b[1m\u001b[34mINFO\u001b[0m] Route found: 0:80 via …17Ahg5\n",
            "Dec 17 11:19:43.005 [\u001b[1m\u001b[34mINFO\u001b[0m] Route found: 0:80 via …17Ahg5\n",
            "Dec 17 11:20:08.136 [\u001b[1m\u001b[34mINFO\u001b[0m] Route found: 0:80 via …17Ahg5\n",
            "Dec 17 11:20:33.755 [\u001b[1m\u001b[34mINFO\u001b[0m] Route found: 0:80 via …17Ahg5\n",
            "Dec 17 11:20:58.557 [\u001b[1m\u001b[34mINFO\u001b[0m] Route found: 0:80 via …17Ahg5\n",
            "Dec 17 11:21:17.423 [\u001b[1m\u001b[34mINFO\u001b[0m] Route found: 0:80 via …17Ahg5\n",
            "Dec 17 11:21:42.158 [\u001b[1m\u001b[34mINFO\u001b[0m] Route found: 0:80 via …17Ahg5\n",
            "Dec 17 11:22:02.524 [\u001b[1m\u001b[34mINFO\u001b[0m] Route found: 0:80 via …17Ahg5\n",
            "Dec 17 11:22:27.626 [\u001b[1m\u001b[34mINFO\u001b[0m] Route found: 0:80 via …17Ahg5\n"
          ]
        },
        {
          "output_type": "stream",
          "name": "stdout",
          "text": [
            "iter:18\n"
          ]
        },
        {
          "output_type": "stream",
          "name": "stderr",
          "text": [
            "Dec 17 11:22:46.067 [\u001b[1m\u001b[34mINFO\u001b[0m] Route found: 0:80 via …17Ahg5\n",
            "Dec 17 11:23:10.460 [\u001b[1m\u001b[34mINFO\u001b[0m] Route found: 0:80 via …17Ahg5\n",
            "Dec 17 11:23:29.328 [\u001b[1m\u001b[34mINFO\u001b[0m] Route found: 0:80 via …17Ahg5\n",
            "Dec 17 11:23:53.297 [\u001b[1m\u001b[34mINFO\u001b[0m] Route found: 0:80 via …17Ahg5\n",
            "Dec 17 11:24:11.493 [\u001b[1m\u001b[34mINFO\u001b[0m] Route found: 0:80 via …17Ahg5\n",
            "Dec 17 11:24:35.973 [\u001b[1m\u001b[34mINFO\u001b[0m] Route found: 0:80 via …17Ahg5\n",
            "Dec 17 11:24:54.169 [\u001b[1m\u001b[34mINFO\u001b[0m] Route found: 0:80 via …17Ahg5\n",
            "Dec 17 11:25:18.807 [\u001b[1m\u001b[34mINFO\u001b[0m] Route found: 0:80 via …17Ahg5\n",
            "Dec 17 11:25:36.599 [\u001b[1m\u001b[34mINFO\u001b[0m] Route found: 0:80 via …17Ahg5\n",
            "Dec 17 11:26:00.672 [\u001b[1m\u001b[34mINFO\u001b[0m] Route found: 0:80 via …17Ahg5\n",
            "Dec 17 11:26:18.096 [\u001b[1m\u001b[34mINFO\u001b[0m] Route found: 0:80 via …17Ahg5\n",
            "Dec 17 11:26:42.394 [\u001b[1m\u001b[34mINFO\u001b[0m] Route found: 0:80 via …17Ahg5\n",
            "Dec 17 11:27:08.495 [\u001b[1m\u001b[34mINFO\u001b[0m] Route found: 0:80 via …17Ahg5\n",
            "Dec 17 11:27:33.225 [\u001b[1m\u001b[34mINFO\u001b[0m] Route found: 0:80 via …17Ahg5\n",
            "Dec 17 11:27:51.819 [\u001b[1m\u001b[34mINFO\u001b[0m] Route found: 0:80 via …17Ahg5\n",
            "Dec 17 11:28:16.938 [\u001b[1m\u001b[34mINFO\u001b[0m] Route found: 0:80 via …17Ahg5\n",
            "Dec 17 11:28:38.709 [\u001b[1m\u001b[34mINFO\u001b[0m] Route found: 0:80 via …17Ahg5\n",
            "Dec 17 11:29:12.595 [\u001b[1m\u001b[34mINFO\u001b[0m] Route found: 0:80 via …17Ahg5\n",
            "Dec 17 11:29:39.923 [\u001b[1m\u001b[34mINFO\u001b[0m] Route found: 0:80 via …17Ahg5\n",
            "Dec 17 11:30:04.482 [\u001b[1m\u001b[34mINFO\u001b[0m] Route found: 0:80 via …17Ahg5\n"
          ]
        },
        {
          "output_type": "stream",
          "name": "stdout",
          "text": [
            "iter:19\n"
          ]
        },
        {
          "output_type": "stream",
          "name": "stderr",
          "text": [
            "Dec 17 11:30:23.136 [\u001b[1m\u001b[34mINFO\u001b[0m] Route found: 0:80 via …17Ahg5\n",
            "Dec 17 11:30:48.063 [\u001b[1m\u001b[34mINFO\u001b[0m] Route found: 0:80 via …17Ahg5\n",
            "Dec 17 11:31:13.589 [\u001b[1m\u001b[34mINFO\u001b[0m] Route found: 0:80 via …17Ahg5\n",
            "Dec 17 11:31:38.424 [\u001b[1m\u001b[34mINFO\u001b[0m] Route found: 0:80 via …17Ahg5\n",
            "Dec 17 11:32:04.215 [\u001b[1m\u001b[34mINFO\u001b[0m] Route found: 0:80 via …17Ahg5\n",
            "Dec 17 11:32:29.284 [\u001b[1m\u001b[34mINFO\u001b[0m] Route found: 0:80 via …17Ahg5\n",
            "Dec 17 11:32:48.102 [\u001b[1m\u001b[34mINFO\u001b[0m] Route found: 0:80 via …17Ahg5\n",
            "Dec 17 11:33:13.040 [\u001b[1m\u001b[34mINFO\u001b[0m] Route found: 0:80 via …17Ahg5\n",
            "Dec 17 11:33:30.894 [\u001b[1m\u001b[34mINFO\u001b[0m] Route found: 0:80 via …17Ahg5\n",
            "Dec 17 11:33:55.702 [\u001b[1m\u001b[34mINFO\u001b[0m] Route found: 0:80 via …17Ahg5\n",
            "Dec 17 11:34:12.395 [\u001b[1m\u001b[34mINFO\u001b[0m] Route found: 0:80 via …17Ahg5\n",
            "Dec 17 11:34:37.079 [\u001b[1m\u001b[34mINFO\u001b[0m] Route found: 0:80 via …17Ahg5\n",
            "Dec 17 11:34:57.822 [\u001b[1m\u001b[34mINFO\u001b[0m] Route found: 0:80 via …17Ahg5\n",
            "Dec 17 11:35:22.189 [\u001b[1m\u001b[34mINFO\u001b[0m] Route found: 0:80 via …17Ahg5\n",
            "Dec 17 11:35:43.833 [\u001b[1m\u001b[34mINFO\u001b[0m] Route found: 0:80 via …17Ahg5\n",
            "Dec 17 11:36:09.319 [\u001b[1m\u001b[34mINFO\u001b[0m] Route found: 0:80 via …17Ahg5\n",
            "Dec 17 11:36:30.202 [\u001b[1m\u001b[34mINFO\u001b[0m] Route found: 0:80 via …17Ahg5\n",
            "Dec 17 11:36:54.561 [\u001b[1m\u001b[34mINFO\u001b[0m] Route found: 0:80 via …17Ahg5\n",
            "Dec 17 11:37:20.734 [\u001b[1m\u001b[34mINFO\u001b[0m] Route found: 0:40 via …zbYPdv => 40:80 via …3wyVGZ\n"
          ]
        },
        {
          "output_type": "execute_result",
          "data": {
            "text/plain": [
              "[['What symbol represents a universal language that transcends the constraints of verbal communication in human interactions across cultures?',\n",
              "  30],\n",
              " ['What symbol represents a universal language that transcends the constraints of verbal communication in human interactions across cultures?',\n",
              "  30],\n",
              " ['What symbol represents a universal language that transcends the constraints of verbal communication in human interactions across cultures?',\n",
              "  30],\n",
              " ['What symbol represents a universal language that transcends the constraints of verbal communication in human interactions across cultures?',\n",
              "  30],\n",
              " ['What symbol represents a universal language that transcends the constraints of verbal communication in human interactions across cultures?',\n",
              "  30],\n",
              " ['What symbol represents a universal language that transcends the constraints of verbal communication in human interactions across cultures?',\n",
              "  30],\n",
              " ['What symbol represents a universal language that transcends the constraints of verbal communication in human interactions across cultures?',\n",
              "  30],\n",
              " ['What symbol represents a universal language that transcends the constraints of verbal communication in human interactions across cultures?',\n",
              "  30],\n",
              " ['What symbol represents a universal language that transcends the constraints of verbal communication in human interactions across cultures?',\n",
              "  30],\n",
              " ['What symbol represents a universal language that transcends the constraints of verbal communication in human interactions across cultures?',\n",
              "  30]]"
            ]
          },
          "metadata": {},
          "execution_count": 14
        }
      ]
    },
    {
      "cell_type": "markdown",
      "source": [
        "Now we can plot how the fitness evolved by taking the maximum value and the average for each iteration."
      ],
      "metadata": {
        "id": "36nVhJyiEcDZ"
      }
    },
    {
      "cell_type": "code",
      "source": [
        "import matplotlib.pyplot as plt\n",
        "\n",
        "def read_evolution_data(file_name):\n",
        "    fitness_per_iteration = []\n",
        "    with open(file_name, 'r') as file:\n",
        "        lines = file.readlines()\n",
        "        iteration_fitness = []\n",
        "        for line in lines:\n",
        "            if line.startswith('Iteration'):\n",
        "                if iteration_fitness:\n",
        "                    fitness_per_iteration.append(iteration_fitness)\n",
        "                    iteration_fitness = []\n",
        "            elif '|' in line:\n",
        "                fitness = int(line.split('|')[-1].strip())\n",
        "                iteration_fitness.append(fitness)\n",
        "        if iteration_fitness:\n",
        "            fitness_per_iteration.append(iteration_fitness)\n",
        "    return fitness_per_iteration\n",
        "\n",
        "def calculate_stats(fitness_per_iteration):\n",
        "    max_fitness = [max(iteration) for iteration in fitness_per_iteration]\n",
        "    avg_fitness = [sum(iteration) / len(iteration) for iteration in fitness_per_iteration]\n",
        "    return max_fitness, avg_fitness\n",
        "\n",
        "def plot_fitness_evolution(max_fitness, avg_fitness):\n",
        "    iterations = range(len(max_fitness))\n",
        "\n",
        "    plt.figure(figsize=(10, 6))\n",
        "    plt.plot(iterations, max_fitness, label='Max Fitness', marker='o')\n",
        "    plt.plot(iterations, avg_fitness, label='Average Fitness', marker='s')\n",
        "\n",
        "    plt.title('Fitness Evolution')\n",
        "    plt.xlabel('Iteration')\n",
        "    plt.ylabel('Fitness')\n",
        "    plt.legend()\n",
        "    plt.grid(True)\n",
        "\n",
        "    # Set integer values on x-axis\n",
        "    plt.xticks(list(range(len(max_fitness))))\n",
        "\n",
        "    plt.show()\n",
        "\n",
        "# Read fitness data for each iteration\n",
        "file_name = 'evolution_data.txt'\n",
        "fitness_per_iteration = read_evolution_data(file_name)\n",
        "\n",
        "# Calculate max and average fitness for each iteration\n",
        "max_fitness, avg_fitness = calculate_stats(fitness_per_iteration)\n",
        "\n",
        "# Plot the fitness evolution graph\n",
        "plot_fitness_evolution(max_fitness, avg_fitness)\n"
      ],
      "metadata": {
        "id": "6HiMs0QCeKI1",
        "colab": {
          "base_uri": "https://localhost:8080/",
          "height": 564
        },
        "outputId": "9ad88167-a08d-41c5-dea9-1a498075978e"
      },
      "execution_count": null,
      "outputs": [
        {
          "output_type": "display_data",
          "data": {
            "text/plain": [
              "<Figure size 1000x600 with 1 Axes>"
            ],
            "image/png": "[encoded data removed]"
          },
          "metadata": {}
        }
      ]
    },
    {
      "cell_type": "markdown",
      "source": [
        "Just to clarify, the plot and the evolution_data.txt file do not include the initial population's fitness values. Iteration 0 already represents the population after the initial tournament selection. Nonetheless, it's quite evident how the fitness consistently increased until it reached a local optimum."
      ],
      "metadata": {
        "id": "uEHZDFz3F6vS"
      }
    },
    {
      "cell_type": "markdown",
      "source": [
        "## Part 5: Bonus\n",
        "\n",
        "EvoPrompt comprises two variants: the first is the GA implementation, and the second is the Differential Evolution (DE) implementation. In this instance, instead of conducting a complete evolution, we simply observe how the query operates.\n",
        "\n"
      ],
      "metadata": {
        "id": "1k-YLCaIgqTm"
      }
    },
    {
      "cell_type": "code",
      "source": [
        "def DA_evolution(base_prompt,sentence_1, sentence_2,sentence_3,max_token = 150):\n",
        "  query = 'Please follow the instruction step-by-step to generate a better prompt.\\n 1. Identify the different parts between the Prompt 1 and Prompt 2:\\n Prompt 1: ' + sentence_1 + '\\n Prompt 2: ' + sentence_2 +'\\n 2. Randomly mutate the different parts \\n 3. Combine the different parts with Prompt 3, selectively replace it with the different parts in Step 2 and generate a new prompt.\\n Prompt 3: ' + sentence_3 + '\\n 4. Cross over the prompt in the Step 3 with the following basic prompt and generate a final prompt bracketed with <prompt> and </prompt>:\\n Basic Prompt: ' + base_prompt\n",
        "\n",
        "  inputs = tokenizer(query, return_tensors=\"pt\")[\"input_ids\"].cuda()\n",
        "  input_length = len(tokenizer(query)[\"input_ids\"])\n",
        "  outputs = model.generate(inputs,do_sample = True,  max_new_tokens=max_token)\n",
        "  result = tokenizer.decode(outputs[0,input_length:])\n",
        "  return str(result)"
      ],
      "metadata": {
        "id": "zgB863T_i-UO"
      },
      "execution_count": null,
      "outputs": []
    },
    {
      "cell_type": "code",
      "source": [
        "base_prompt = \"In the symphony of life, what instrument plays the melody of resilience?\"\n",
        "sentence_1 = \"In the realm of human emotions, what color represents the essence of hope?\"\n",
        "sentence_2 = \"Among the vast expanse of nature, what phenomenon serves as a testament to the power of transformation?\"\n",
        "sentence_3 = \"In the depths of our own minds, what hidden potential awaits to be discovered and unleashed?\""
      ],
      "metadata": {
        "id": "nIgk_jPLlUTN"
      },
      "execution_count": null,
      "outputs": []
    },
    {
      "cell_type": "code",
      "source": [
        "print(DA_evolution(base_prompt,sentence_1,sentence_2,sentence_3))"
      ],
      "metadata": {
        "colab": {
          "base_uri": "https://localhost:8080/"
        },
        "id": "8e0BaZdQlxOo",
        "outputId": "e8178129-d646-45e0-a396-88cee0d7c7b8"
      },
      "execution_count": null,
      "outputs": [
        {
          "output_type": "stream",
          "name": "stderr",
          "text": [
            "Dec 17 16:27:26.197 [\u001b[1m\u001b[34mINFO\u001b[0m] Route found: 0:80 via …17Ahg5\n"
          ]
        },
        {
          "output_type": "stream",
          "name": "stdout",
          "text": [
            " \n",
            " Final Prompt: In the symphony of life, what instrument <prompt>plays the melody of resilience</prompt> and <prompt> uncovers the hidden potential in the depths of our own minds</prompt>?</s>\n"
          ]
        }
      ]
    },
    {
      "cell_type": "markdown",
      "source": [
        "This time with the prompt proposed by the paper Stable Beluga 2 isn't able to produce the desired output."
      ],
      "metadata": {
        "id": "AChndx7Hm0P5"
      }
    }
  ]
}